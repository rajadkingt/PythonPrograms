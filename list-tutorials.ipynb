{
 "cells": [
  {
   "cell_type": "code",
   "execution_count": 5,
   "id": "e1cf5569-0ba9-4c18-bba7-0477a1c18dfa",
   "metadata": {},
   "outputs": [
    {
     "name": "stdout",
     "output_type": "stream",
     "text": [
      "True\n"
     ]
    }
   ],
   "source": [
    "'''List comparison'''\n",
    "list1=[1,2,3,4,5]\n",
    "list2=[1,2,3,4,5]\n",
    "print(list1==list2)"
   ]
  },
  {
   "cell_type": "code",
   "execution_count": 6,
   "id": "7541550e-b5bb-45c4-ba47-ab8f22a68a86",
   "metadata": {},
   "outputs": [
    {
     "name": "stdout",
     "output_type": "stream",
     "text": [
      "False\n"
     ]
    }
   ],
   "source": [
    "print(list1 in list2)"
   ]
  },
  {
   "cell_type": "code",
   "execution_count": 7,
   "id": "d397e103-5b7c-41e0-a9ad-3b920a01eb3f",
   "metadata": {},
   "outputs": [
    {
     "data": {
      "text/plain": [
       "5"
      ]
     },
     "execution_count": 7,
     "metadata": {},
     "output_type": "execute_result"
    }
   ],
   "source": [
    "'''Pop item from list'''\n",
    "list2.pop() # pop last item in list"
   ]
  },
  {
   "cell_type": "code",
   "execution_count": 8,
   "id": "ba832562-588b-4da1-814b-d89373161639",
   "metadata": {},
   "outputs": [
    {
     "name": "stdout",
     "output_type": "stream",
     "text": [
      "False\n"
     ]
    }
   ],
   "source": [
    "print(list2 in list1)"
   ]
  },
  {
   "cell_type": "code",
   "execution_count": 9,
   "id": "cee8344b-afc6-4726-bdff-ffabd9442fa6",
   "metadata": {},
   "outputs": [
    {
     "name": "stdout",
     "output_type": "stream",
     "text": [
      "[1, 2, 3, 4, 5]\n"
     ]
    }
   ],
   "source": [
    "'''copy list'''\n",
    "list3=list1\n",
    "print(list3)"
   ]
  },
  {
   "cell_type": "code",
   "execution_count": 10,
   "id": "943257bf-6aa6-4b2b-8b8e-53854ca2b527",
   "metadata": {},
   "outputs": [
    {
     "data": {
      "text/plain": [
       "2"
      ]
     },
     "execution_count": 10,
     "metadata": {},
     "output_type": "execute_result"
    }
   ],
   "source": [
    "list1.pop(1)"
   ]
  },
  {
   "cell_type": "code",
   "execution_count": 11,
   "id": "a40868e2-121d-4ff2-a5d1-abbb2dbc1e9c",
   "metadata": {},
   "outputs": [
    {
     "name": "stdout",
     "output_type": "stream",
     "text": [
      "[1, 3, 4, 5]\n"
     ]
    }
   ],
   "source": [
    "'''popping element in list1 reflected in list3'''\n",
    "print(list3)"
   ]
  },
  {
   "cell_type": "code",
   "execution_count": 12,
   "id": "d8df7db7-c04f-403f-a172-63e11cd0d264",
   "metadata": {},
   "outputs": [],
   "source": [
    "'''above behavior is not see when using list.copy method'''\n",
    "list4=list1.copy()"
   ]
  },
  {
   "cell_type": "code",
   "execution_count": 13,
   "id": "14c6a4f4-cfac-4a54-9aed-d886c856e934",
   "metadata": {},
   "outputs": [
    {
     "name": "stdout",
     "output_type": "stream",
     "text": [
      "[1, 3, 4, 5]\n"
     ]
    }
   ],
   "source": [
    "print(list4)"
   ]
  },
  {
   "cell_type": "code",
   "execution_count": 14,
   "id": "57a724f3-4f4b-43e7-8bda-753290f69895",
   "metadata": {},
   "outputs": [
    {
     "data": {
      "text/plain": [
       "5"
      ]
     },
     "execution_count": 14,
     "metadata": {},
     "output_type": "execute_result"
    }
   ],
   "source": [
    "list1.pop(3)"
   ]
  },
  {
   "cell_type": "code",
   "execution_count": 15,
   "id": "f0472bfe-5f36-4529-bbdc-8d06ca19f697",
   "metadata": {},
   "outputs": [
    {
     "name": "stdout",
     "output_type": "stream",
     "text": [
      "[1, 3, 4] [1, 3, 4, 5]\n"
     ]
    }
   ],
   "source": [
    "print(list1,list4)"
   ]
  },
  {
   "cell_type": "code",
   "execution_count": 16,
   "id": "bbeec228-5a0f-42b9-85e1-49c08af8b154",
   "metadata": {},
   "outputs": [
    {
     "name": "stdout",
     "output_type": "stream",
     "text": [
      "False\n"
     ]
    }
   ],
   "source": [
    "print(list1 in list4)"
   ]
  },
  {
   "cell_type": "code",
   "execution_count": 17,
   "id": "9354814f-4ea6-4ba9-a21a-c35fde9fdc21",
   "metadata": {},
   "outputs": [
    {
     "data": {
      "text/plain": [
       "'attempt to print out of index element'"
      ]
     },
     "execution_count": 17,
     "metadata": {},
     "output_type": "execute_result"
    }
   ],
   "source": [
    "'''attempt to print out of index element'''\n",
    "#print(list1[5]) # throws list index out of range error"
   ]
  },
  {
   "cell_type": "code",
   "execution_count": 18,
   "id": "bfa5ee25-c04a-4820-a0fd-95da9e69656a",
   "metadata": {},
   "outputs": [
    {
     "name": "stdout",
     "output_type": "stream",
     "text": [
      "3\n"
     ]
    }
   ],
   "source": [
    "'''generate length of list'''\n",
    "print(len(list1))"
   ]
  },
  {
   "cell_type": "code",
   "execution_count": 19,
   "id": "a99f7212-114f-4be6-81aa-1aaa01d1e240",
   "metadata": {},
   "outputs": [
    {
     "name": "stdout",
     "output_type": "stream",
     "text": [
      "[1, 3, 4, 1, 3, 4, 5]\n"
     ]
    }
   ],
   "source": [
    "'''adding lists'''\n",
    "print(list1+list4)"
   ]
  },
  {
   "cell_type": "code",
   "execution_count": 20,
   "id": "20206884-fc2d-4a4a-948b-357102839613",
   "metadata": {},
   "outputs": [
    {
     "name": "stdout",
     "output_type": "stream",
     "text": [
      "[1, 3, 4]\n"
     ]
    }
   ],
   "source": [
    "print(list1)"
   ]
  },
  {
   "cell_type": "code",
   "execution_count": 21,
   "id": "a5f8dcf1-40b6-4076-8363-15cb7c261dfb",
   "metadata": {},
   "outputs": [],
   "source": [
    "'''appending to a list'''\n",
    "list1.append(list4)"
   ]
  },
  {
   "cell_type": "code",
   "execution_count": 22,
   "id": "ad2eda0d-6025-4c41-a0a1-ee2bc6228e16",
   "metadata": {},
   "outputs": [
    {
     "name": "stdout",
     "output_type": "stream",
     "text": [
      "[1, 3, 4, 5]\n"
     ]
    }
   ],
   "source": [
    "print(list4)"
   ]
  },
  {
   "cell_type": "code",
   "execution_count": 23,
   "id": "01e0201e-bcb9-40b5-89e9-a2587390db2a",
   "metadata": {},
   "outputs": [
    {
     "name": "stdout",
     "output_type": "stream",
     "text": [
      "[1, 3, 4, [1, 3, 4, 5]]\n"
     ]
    }
   ],
   "source": [
    "print(list3)"
   ]
  },
  {
   "cell_type": "code",
   "execution_count": 24,
   "id": "9dadc6e2-e49f-463b-92b5-e209df637190",
   "metadata": {},
   "outputs": [
    {
     "name": "stdout",
     "output_type": "stream",
     "text": [
      "[1, 3, 4, [1, 3, 4, 5]]\n"
     ]
    }
   ],
   "source": [
    "print(list1)"
   ]
  },
  {
   "cell_type": "code",
   "execution_count": 25,
   "id": "a2702540-e7ce-4bf6-bea1-8fc4c15e12fd",
   "metadata": {},
   "outputs": [
    {
     "data": {
      "text/plain": [
       "[3, 4, [1, 3, 4, 5]]"
      ]
     },
     "execution_count": 25,
     "metadata": {},
     "output_type": "execute_result"
    }
   ],
   "source": [
    "'''list printing'''\n",
    "list3[1:]"
   ]
  },
  {
   "cell_type": "code",
   "execution_count": 26,
   "id": "b64c99cc-39bb-4c0b-9772-4099d03692f2",
   "metadata": {},
   "outputs": [
    {
     "data": {
      "text/plain": [
       "[1, 3, 4, 5]"
      ]
     },
     "execution_count": 26,
     "metadata": {},
     "output_type": "execute_result"
    }
   ],
   "source": [
    "list1.pop()"
   ]
  },
  {
   "cell_type": "code",
   "execution_count": 27,
   "id": "cf0769b1-c9fd-453b-8d3d-c5079db47cf2",
   "metadata": {},
   "outputs": [
    {
     "data": {
      "text/plain": [
       "[1, 3, 4]"
      ]
     },
     "execution_count": 27,
     "metadata": {},
     "output_type": "execute_result"
    }
   ],
   "source": [
    "list3"
   ]
  },
  {
   "cell_type": "code",
   "execution_count": 28,
   "id": "8f7e5822-da0c-41d0-9ec3-b5ef3c9c05c8",
   "metadata": {},
   "outputs": [
    {
     "data": {
      "text/plain": [
       "[1, 2, 3, 4]"
      ]
     },
     "execution_count": 28,
     "metadata": {},
     "output_type": "execute_result"
    }
   ],
   "source": [
    "list2"
   ]
  },
  {
   "cell_type": "code",
   "execution_count": 29,
   "id": "ba3cea58-8406-4b05-9764-cd3ea7289879",
   "metadata": {},
   "outputs": [
    {
     "data": {
      "text/plain": [
       "[2, 3, 4]"
      ]
     },
     "execution_count": 29,
     "metadata": {},
     "output_type": "execute_result"
    }
   ],
   "source": [
    "''' print list starting from 2nd item'''\n",
    "list2[1:]"
   ]
  },
  {
   "cell_type": "code",
   "execution_count": 30,
   "id": "961e35b2-e969-455c-a9d1-67a671409591",
   "metadata": {},
   "outputs": [
    {
     "name": "stdout",
     "output_type": "stream",
     "text": [
      "[1, 2, 3, 4]\n",
      "[4]\n",
      "[3, 4]\n",
      "[2, 3, 4]\n"
     ]
    }
   ],
   "source": [
    "print(list2)\n",
    "print(list2[-1:])\n",
    "print(list2[-2:])\n",
    "print(list2[-3:])\n"
   ]
  },
  {
   "cell_type": "code",
   "execution_count": 31,
   "id": "b496584a-4d68-40c6-924d-759d0a682843",
   "metadata": {},
   "outputs": [
    {
     "name": "stdout",
     "output_type": "stream",
     "text": [
      "[1, 2, 3, 4]\n",
      "[1, 2, 3]\n",
      "[1, 2]\n"
     ]
    }
   ],
   "source": [
    "print(list2[::])\n",
    "print(list2[:-1])\n",
    "print(list2[:-2])"
   ]
  },
  {
   "cell_type": "code",
   "execution_count": 32,
   "id": "6616d4fc-ed3e-4e9f-824e-1d9f88e851a2",
   "metadata": {},
   "outputs": [],
   "source": [
    "list1=list(range(20))"
   ]
  },
  {
   "cell_type": "code",
   "execution_count": 33,
   "id": "0d1e94f9-db6a-4034-92cc-5cc6e22e7b8d",
   "metadata": {},
   "outputs": [
    {
     "data": {
      "text/plain": [
       "[0, 1, 2, 3, 4, 5, 6, 7, 8, 9, 10, 11, 12, 13, 14, 15, 16, 17, 18, 19]"
      ]
     },
     "execution_count": 33,
     "metadata": {},
     "output_type": "execute_result"
    }
   ],
   "source": [
    "list1"
   ]
  },
  {
   "cell_type": "code",
   "execution_count": 34,
   "id": "6d65425d-dc69-4d55-a9f1-adbcb845be1a",
   "metadata": {},
   "outputs": [
    {
     "name": "stdout",
     "output_type": "stream",
     "text": [
      "[0, 1, 2, 3, 4, 5, 6, 7, 8, 9, 10, 11, 12, 13, 14, 15, 16, 17, 18, 19]\n",
      "[1, 2, 3, 4, 5, 6, 7, 8, 9, 10, 11, 12, 13, 14, 15, 16, 17, 18]\n",
      "[2, 3, 4, 5, 6, 7, 8, 9, 10, 11, 12, 13, 14, 15, 16, 17]\n"
     ]
    }
   ],
   "source": [
    "print(list1)\n",
    "'''exclude first and last item in list'''\n",
    "print(list1[1:-1])\n",
    "'''exclude first 2 and last 2 items in list'''\n",
    "print(list1[2:-2])"
   ]
  },
  {
   "cell_type": "code",
   "execution_count": 35,
   "id": "bf4d6146-d496-4640-a62f-53e7a6203c5b",
   "metadata": {},
   "outputs": [
    {
     "name": "stdout",
     "output_type": "stream",
     "text": [
      "[0, 1, 2, 3, 4, 5, 6, 7, 8, 9, 10, 11, 12, 13, 14, 15, 16, 17, 18, 19]\n",
      "[0, 2, 4, 6, 8, 10, 12, 14, 16, 18]\n",
      "[0, 3, 6, 9, 12, 15, 18]\n"
     ]
    }
   ],
   "source": [
    "print(list1)\n",
    "'''include every 2nd element'''\n",
    "print(list1[::2])\n",
    "'''include every 3rd element'''\n",
    "print(list1[::3])"
   ]
  },
  {
   "cell_type": "code",
   "execution_count": 36,
   "id": "66534735-4dc3-49f3-8ff6-a44009733968",
   "metadata": {},
   "outputs": [
    {
     "name": "stdout",
     "output_type": "stream",
     "text": [
      "[1, 2, 3, 4, 5, 6, 7, 8, 9, 10, 11, 12, 13, 14, 15, 16, 17, 18]\n",
      "[1, 3, 5, 7, 9, 11, 13, 15, 17]\n",
      "[1, 4, 7, 10, 13, 16]\n"
     ]
    }
   ],
   "source": [
    "'''exclude first and last item and print every nth element'''\n",
    "'''index is calculated from 0 and only prints indexes which multiple of n'''\n",
    "print(list1[1:-1])\n",
    "print(list1[1:-1:2])\n",
    "print(list1[1:-1:3])\n"
   ]
  },
  {
   "cell_type": "code",
   "execution_count": 37,
   "id": "b5f682fc-b9ee-40ab-811a-2c1f636bde34",
   "metadata": {},
   "outputs": [
    {
     "name": "stdout",
     "output_type": "stream",
     "text": [
      "[19, 18, 17, 16, 15, 14, 13, 12, 11, 10, 9, 8, 7, 6, 5, 4, 3, 2, 1, 0]\n",
      "[19, 17, 15, 13, 11, 9, 7, 5, 3, 1]\n",
      "[19, 16, 13, 10, 7, 4, 1]\n"
     ]
    }
   ],
   "source": [
    "'''print the list in reverse order printing every nth element'''\n",
    "print(list1[::-1])\n",
    "print(list1[::-2])\n",
    "print(list1[::-3])"
   ]
  },
  {
   "cell_type": "code",
   "execution_count": 38,
   "id": "b0b3a30f-ae2c-4cca-a4d0-d015e13d7d55",
   "metadata": {},
   "outputs": [
    {
     "name": "stdout",
     "output_type": "stream",
     "text": [
      "[19, 18, 17, 16, 15, 14, 13, 12, 11]\n",
      "[]\n"
     ]
    }
   ],
   "source": [
    "'''print element from nth index in reverse order'''\n",
    "print(list1[:-10:-1])\n",
    "print(list1[1:10:-1])"
   ]
  },
  {
   "cell_type": "code",
   "execution_count": 39,
   "id": "effb76f8-f97c-45b3-a4f2-f280e10d6cdd",
   "metadata": {},
   "outputs": [
    {
     "data": {
      "text/plain": [
       "[0, 1, 2, 3, 4, 5, 6, 7, 8, 9, 10, 11, 12, 13, 14, 15, 16, 17, 18, 19]"
      ]
     },
     "execution_count": 39,
     "metadata": {},
     "output_type": "execute_result"
    }
   ],
   "source": [
    "'''sort list'''\n",
    "list1"
   ]
  },
  {
   "cell_type": "code",
   "execution_count": 43,
   "id": "b2e12ebf-39e2-4af1-9b82-299e117c375a",
   "metadata": {},
   "outputs": [
    {
     "data": {
      "text/plain": [
       "[19, 18, 17, 16, 15, 14, 13, 12, 11, 10, 9, 8, 7, 6, 5, 4, 3, 2, 1, 0]"
      ]
     },
     "execution_count": 43,
     "metadata": {},
     "output_type": "execute_result"
    }
   ],
   "source": [
    "'''sort list, default ascending'''\n",
    "sorted(list1)\n",
    "sorted(list1,reverse=True)"
   ]
  },
  {
   "cell_type": "code",
   "execution_count": 44,
   "id": "ef78fe70-cbd6-409c-9b04-ddfa596b8559",
   "metadata": {},
   "outputs": [
    {
     "name": "stdout",
     "output_type": "stream",
     "text": [
      "True\n"
     ]
    }
   ],
   "source": [
    "print(sorted(list1,reverse=True)==list1[::-1])"
   ]
  },
  {
   "cell_type": "code",
   "execution_count": 45,
   "id": "ca740edf-fe81-48ed-917b-b4ac85f8248a",
   "metadata": {},
   "outputs": [
    {
     "name": "stdout",
     "output_type": "stream",
     "text": [
      "[1, 2, 3] False [4, 5, 6]\n"
     ]
    }
   ],
   "source": [
    "list1=[1,2,3]\n",
    "list2=[4,5,6]\n",
    "list3=[1,2,3]\n",
    "list4=[4,5,6]\n"
   ]
  },
  {
   "cell_type": "code",
   "execution_count": 46,
   "id": "bd9af113-2c48-4106-858a-38a4777f9161",
   "metadata": {},
   "outputs": [
    {
     "name": "stdout",
     "output_type": "stream",
     "text": [
      "True\n"
     ]
    }
   ],
   "source": [
    "print((list1,list2)==(list3,list4))"
   ]
  },
  {
   "cell_type": "code",
   "execution_count": 54,
   "id": "a9920be0-3af3-4af8-a58c-0b0c425b8401",
   "metadata": {},
   "outputs": [],
   "source": [
    "'''Swapping lists'''\n",
    "list1,list2=list4,list3"
   ]
  },
  {
   "cell_type": "code",
   "execution_count": 55,
   "id": "f6eac306-ca52-46a1-add5-db154f6ef45b",
   "metadata": {},
   "outputs": [
    {
     "name": "stdout",
     "output_type": "stream",
     "text": [
      "[4, 5, 6] [1, 2, 3] [1, 2, 3] [4, 5, 6]\n"
     ]
    }
   ],
   "source": [
    "print(list1,list2,list3,list4)"
   ]
  },
  {
   "cell_type": "code",
   "execution_count": null,
   "id": "7365c30e-520b-4fb2-8791-a485800de890",
   "metadata": {},
   "outputs": [],
   "source": []
  }
 ],
 "metadata": {
  "kernelspec": {
   "display_name": "Python 3 (ipykernel)",
   "language": "python",
   "name": "python3"
  },
  "language_info": {
   "codemirror_mode": {
    "name": "ipython",
    "version": 3
   },
   "file_extension": ".py",
   "mimetype": "text/x-python",
   "name": "python",
   "nbconvert_exporter": "python",
   "pygments_lexer": "ipython3",
   "version": "3.9.6"
  }
 },
 "nbformat": 4,
 "nbformat_minor": 5
}
